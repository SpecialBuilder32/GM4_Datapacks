{
 "cells": [
  {
   "cell_type": "code",
   "execution_count": 1,
   "metadata": {},
   "outputs": [
    {
     "data": {
      "text/plain": [
       "myModel(foo='val', bar='val')"
      ]
     },
     "execution_count": 1,
     "metadata": {},
     "output_type": "execute_result"
    }
   ],
   "source": [
    "from pydantic import BaseModel, Field, PrivateAttr, AliasChoices\n",
    "\n",
    "class myModel(BaseModel):\n",
    "    foo: str\n",
    "    bar: str = Field(..., validation_alias=AliasChoices('bar', 'foo'))\n",
    "\n",
    "myModel.model_validate({\"foo\": \"val\"})"
   ]
  },
  {
   "cell_type": "code",
   "execution_count": 3,
   "metadata": {},
   "outputs": [
    {
     "ename": "ModuleNotFoundError",
     "evalue": "No module named 'pydancic'",
     "output_type": "error",
     "traceback": [
      "\u001b[1;31m---------------------------------------------------------------------------\u001b[0m",
      "\u001b[1;31mModuleNotFoundError\u001b[0m                       Traceback (most recent call last)",
      "Cell \u001b[1;32mIn[3], line 4\u001b[0m\n\u001b[0;32m      1\u001b[0m \u001b[38;5;28;01mfrom\u001b[39;00m \u001b[38;5;21;01mgm4\u001b[39;00m\u001b[38;5;21;01m.\u001b[39;00m\u001b[38;5;21;01mplugins\u001b[39;00m\u001b[38;5;21;01m.\u001b[39;00m\u001b[38;5;21;01mresource_pack\u001b[39;00m \u001b[38;5;28;01mimport\u001b[39;00m ModelData\n\u001b[0;32m      3\u001b[0m \u001b[38;5;66;03m# ModelData.model_validate({\"item\":\"apple\", \"reference\":\"foo\"})\u001b[39;00m\n\u001b[1;32m----> 4\u001b[0m \u001b[38;5;28;01mimport\u001b[39;00m \u001b[38;5;21;01mpydancic\u001b[39;00m\n\u001b[0;32m      5\u001b[0m pydantic\u001b[38;5;241m.\u001b[39m__version__\n",
      "\u001b[1;31mModuleNotFoundError\u001b[0m: No module named 'pydancic'"
     ]
    }
   ],
   "source": [
    "from gm4.plugins.resource_pack import ModelData\n",
    "\n",
    "# ModelData.model_validate({\"item\":\"apple\", \"reference\":\"foo\"})\n",
    "import pydantic\n",
    "pydantic.__version__"
   ]
  }
 ],
 "metadata": {
  "kernelspec": {
   "display_name": "gm4-FegVboYI-py3.10",
   "language": "python",
   "name": "python3"
  },
  "language_info": {
   "name": "python",
   "version": "3.10.5"
  }
 },
 "nbformat": 4,
 "nbformat_minor": 2
}
